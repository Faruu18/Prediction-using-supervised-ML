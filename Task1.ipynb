{
 "cells": [
  {
   "cell_type": "markdown",
   "id": "0a9873ba",
   "metadata": {},
   "source": [
    "# The Sparks Foundation"
   ]
  },
  {
   "cell_type": "markdown",
   "id": "a3f8a374",
   "metadata": {},
   "source": [
    "### Author: Farhat Shaikh\n",
    "#### Problem Statement- Predict the percentage of student based on number of study hours using supervised machine learning"
   ]
  },
  {
   "cell_type": "markdown",
   "id": "1cb153d1",
   "metadata": {},
   "source": [
    "**STEP 1: Importing Libraries**"
   ]
  },
  {
   "cell_type": "code",
   "execution_count": 1,
   "id": "a022c19f",
   "metadata": {},
   "outputs": [],
   "source": [
    "import pandas as pd \n",
    "import numpy as np\n",
    "import matplotlib.pyplot as plt\n",
    "%matplotlib inline"
   ]
  },
  {
   "cell_type": "markdown",
   "id": "d144ab86",
   "metadata": {},
   "source": [
    "**STEP 2: Importing Dataset**"
   ]
  },
  {
   "cell_type": "code",
   "execution_count": 2,
   "id": "4f52b4d8",
   "metadata": {},
   "outputs": [
    {
     "name": "stdout",
     "output_type": "stream",
     "text": [
      "Importing Data Successfully\n"
     ]
    }
   ],
   "source": [
    "data = pd.read_csv(\"data.csv\")\n",
    "print(\"Importing Data Successfully\")"
   ]
  },
  {
   "cell_type": "markdown",
   "id": "92d92326",
   "metadata": {},
   "source": [
    "**STEP 3: Printing The Data**"
   ]
  },
  {
   "cell_type": "code",
   "execution_count": 3,
   "id": "93adc5c8",
   "metadata": {},
   "outputs": [
    {
     "name": "stdout",
     "output_type": "stream",
     "text": [
      "Now we print first 12 data of Data-set\n"
     ]
    },
    {
     "data": {
      "text/html": [
       "<div>\n",
       "<style scoped>\n",
       "    .dataframe tbody tr th:only-of-type {\n",
       "        vertical-align: middle;\n",
       "    }\n",
       "\n",
       "    .dataframe tbody tr th {\n",
       "        vertical-align: top;\n",
       "    }\n",
       "\n",
       "    .dataframe thead th {\n",
       "        text-align: right;\n",
       "    }\n",
       "</style>\n",
       "<table border=\"1\" class=\"dataframe\">\n",
       "  <thead>\n",
       "    <tr style=\"text-align: right;\">\n",
       "      <th></th>\n",
       "      <th>Hours</th>\n",
       "      <th>Scores</th>\n",
       "    </tr>\n",
       "  </thead>\n",
       "  <tbody>\n",
       "    <tr>\n",
       "      <th>0</th>\n",
       "      <td>2.5</td>\n",
       "      <td>21</td>\n",
       "    </tr>\n",
       "    <tr>\n",
       "      <th>1</th>\n",
       "      <td>5.1</td>\n",
       "      <td>47</td>\n",
       "    </tr>\n",
       "    <tr>\n",
       "      <th>2</th>\n",
       "      <td>3.2</td>\n",
       "      <td>27</td>\n",
       "    </tr>\n",
       "    <tr>\n",
       "      <th>3</th>\n",
       "      <td>8.5</td>\n",
       "      <td>75</td>\n",
       "    </tr>\n",
       "    <tr>\n",
       "      <th>4</th>\n",
       "      <td>3.5</td>\n",
       "      <td>30</td>\n",
       "    </tr>\n",
       "    <tr>\n",
       "      <th>5</th>\n",
       "      <td>1.5</td>\n",
       "      <td>20</td>\n",
       "    </tr>\n",
       "    <tr>\n",
       "      <th>6</th>\n",
       "      <td>9.2</td>\n",
       "      <td>88</td>\n",
       "    </tr>\n",
       "    <tr>\n",
       "      <th>7</th>\n",
       "      <td>5.5</td>\n",
       "      <td>60</td>\n",
       "    </tr>\n",
       "    <tr>\n",
       "      <th>8</th>\n",
       "      <td>8.3</td>\n",
       "      <td>81</td>\n",
       "    </tr>\n",
       "    <tr>\n",
       "      <th>9</th>\n",
       "      <td>2.7</td>\n",
       "      <td>25</td>\n",
       "    </tr>\n",
       "    <tr>\n",
       "      <th>10</th>\n",
       "      <td>7.7</td>\n",
       "      <td>85</td>\n",
       "    </tr>\n",
       "    <tr>\n",
       "      <th>11</th>\n",
       "      <td>5.9</td>\n",
       "      <td>62</td>\n",
       "    </tr>\n",
       "  </tbody>\n",
       "</table>\n",
       "</div>"
      ],
      "text/plain": [
       "    Hours  Scores\n",
       "0     2.5      21\n",
       "1     5.1      47\n",
       "2     3.2      27\n",
       "3     8.5      75\n",
       "4     3.5      30\n",
       "5     1.5      20\n",
       "6     9.2      88\n",
       "7     5.5      60\n",
       "8     8.3      81\n",
       "9     2.7      25\n",
       "10    7.7      85\n",
       "11    5.9      62"
      ]
     },
     "execution_count": 3,
     "metadata": {},
     "output_type": "execute_result"
    }
   ],
   "source": [
    "print(\"Now we print first 12 data of Data-set\")\n",
    "data.head(12)"
   ]
  },
  {
   "cell_type": "code",
   "execution_count": 4,
   "id": "7c422273",
   "metadata": {},
   "outputs": [
    {
     "name": "stdout",
     "output_type": "stream",
     "text": [
      "You have correctly imported the Data-set\n"
     ]
    }
   ],
   "source": [
    "print(\"You have correctly imported the Data-set\")"
   ]
  },
  {
   "cell_type": "markdown",
   "id": "0543a061",
   "metadata": {},
   "source": [
    "**STEP 4: Plotting The Scattered Graph**"
   ]
  },
  {
   "cell_type": "code",
   "execution_count": 5,
   "id": "3b318b82",
   "metadata": {},
   "outputs": [
    {
     "data": {
      "image/png": "[encoded data removed]",
      "text/plain": [
       "<Figure size 432x288 with 1 Axes>"
      ]
     },
     "metadata": {
      "needs_background": "light"
     },
     "output_type": "display_data"
    }
   ],
   "source": [
    "data.plot.scatter(x='Hours',y='Scores',style='3')\n",
    "plt.title('Hours Studied vs Percentage Scored')\n",
    "plt.xlabel('No of Hours Studied')\n",
    "plt.ylabel('Total Percentage Scored')\n",
    "plt.show()"
   ]
  },
  {
   "cell_type": "code",
   "execution_count": 6,
   "id": "951e5791",
   "metadata": {},
   "outputs": [],
   "source": [
    "x = data.iloc[:, :-1].values\n",
    "y = data.iloc[:, 1].values\n",
    "#print(x)"
   ]
  },
  {
   "cell_type": "markdown",
   "id": "2381fdbe",
   "metadata": {},
   "source": [
    "   **STEP 5: Preparing The Data**"
   ]
  },
  {
   "cell_type": "code",
   "execution_count": 7,
   "id": "0c5ba94d",
   "metadata": {},
   "outputs": [],
   "source": [
    "from sklearn.model_selection import train_test_split\n",
    "x_train, x_test, y_train, y_test = train_test_split(x, y, test_size=0.2, random_state=0)"
   ]
  },
  {
   "cell_type": "markdown",
   "id": "3a11632e",
   "metadata": {},
   "source": [
    "**STEP 6: Training Data Using Linear Regression**"
   ]
  },
  {
   "cell_type": "code",
   "execution_count": 8,
   "id": "ce6afe57",
   "metadata": {},
   "outputs": [
    {
     "name": "stdout",
     "output_type": "stream",
     "text": [
      "Training complete \n"
     ]
    }
   ],
   "source": [
    "from sklearn.linear_model import LinearRegression\n",
    "regressor=LinearRegression()\n",
    "\n",
    "regressor.fit(x_train, y_train)\n",
    "print(\"Training complete \")"
   ]
  },
  {
   "cell_type": "code",
   "execution_count": 9,
   "id": "8138e4c5",
   "metadata": {},
   "outputs": [
    {
     "data": {
      "image/png": "[encoded data removed]",
      "text/plain": [
       "<Figure size 432x288 with 1 Axes>"
      ]
     },
     "metadata": {
      "needs_background": "light"
     },
     "output_type": "display_data"
    }
   ],
   "source": [
    "#Plotting the regression line\n",
    "Line=regressor.coef_*x+regressor.intercept_\n",
    "\n",
    "#Plotting for test data\n",
    "plt.scatter(x,y)\n",
    "plt.plot(x, Line);\n",
    "plt.show()"
   ]
  },
  {
   "cell_type": "markdown",
   "id": "7eea547b",
   "metadata": {},
   "source": [
    "**STEP 7: Testing The Model**"
   ]
  },
  {
   "cell_type": "code",
   "execution_count": 10,
   "id": "f285b2a3",
   "metadata": {},
   "outputs": [
    {
     "name": "stdout",
     "output_type": "stream",
     "text": [
      "[[1.5]\n",
      " [3.2]\n",
      " [7.4]\n",
      " [2.5]\n",
      " [5.9]]\n",
      "Prediction of Score\n",
      "[16.88414476 33.73226078 75.357018   26.79480124 60.49103328]\n"
     ]
    }
   ],
   "source": [
    "print(x_test)\n",
    "print(\"Prediction of Score\")\n",
    "y_pred = regressor.predict(x_test)\n",
    "print(y_pred)"
   ]
  },
  {
   "cell_type": "markdown",
   "id": "0732a75f",
   "metadata": {},
   "source": [
    "**STEP 8: Comparing Actual vs Predicted score**"
   ]
  },
  {
   "cell_type": "code",
   "execution_count": 11,
   "id": "837ae909",
   "metadata": {},
   "outputs": [
    {
     "data": {
      "text/html": [
       "<div>\n",
       "<style scoped>\n",
       "    .dataframe tbody tr th:only-of-type {\n",
       "        vertical-align: middle;\n",
       "    }\n",
       "\n",
       "    .dataframe tbody tr th {\n",
       "        vertical-align: top;\n",
       "    }\n",
       "\n",
       "    .dataframe thead th {\n",
       "        text-align: right;\n",
       "    }\n",
       "</style>\n",
       "<table border=\"1\" class=\"dataframe\">\n",
       "  <thead>\n",
       "    <tr style=\"text-align: right;\">\n",
       "      <th></th>\n",
       "      <th>Actual</th>\n",
       "      <th>Predicted</th>\n",
       "    </tr>\n",
       "  </thead>\n",
       "  <tbody>\n",
       "    <tr>\n",
       "      <th>0</th>\n",
       "      <td>20</td>\n",
       "      <td>16.884145</td>\n",
       "    </tr>\n",
       "    <tr>\n",
       "      <th>1</th>\n",
       "      <td>27</td>\n",
       "      <td>33.732261</td>\n",
       "    </tr>\n",
       "    <tr>\n",
       "      <th>2</th>\n",
       "      <td>69</td>\n",
       "      <td>75.357018</td>\n",
       "    </tr>\n",
       "    <tr>\n",
       "      <th>3</th>\n",
       "      <td>30</td>\n",
       "      <td>26.794801</td>\n",
       "    </tr>\n",
       "    <tr>\n",
       "      <th>4</th>\n",
       "      <td>62</td>\n",
       "      <td>60.491033</td>\n",
       "    </tr>\n",
       "  </tbody>\n",
       "</table>\n",
       "</div>"
      ],
      "text/plain": [
       "   Actual  Predicted\n",
       "0      20  16.884145\n",
       "1      27  33.732261\n",
       "2      69  75.357018\n",
       "3      30  26.794801\n",
       "4      62  60.491033"
      ]
     },
     "execution_count": 11,
     "metadata": {},
     "output_type": "execute_result"
    }
   ],
   "source": [
    "df = pd.DataFrame({'Actual' : y_test , 'Predicted': y_pred})\n",
    "df"
   ]
  },
  {
   "cell_type": "markdown",
   "id": "de12bf4b",
   "metadata": {},
   "source": [
    "**STEP 9:Testing With Our Data**"
   ]
  },
  {
   "cell_type": "code",
   "execution_count": 12,
   "id": "5397329d",
   "metadata": {},
   "outputs": [
    {
     "name": "stdout",
     "output_type": "stream",
     "text": [
      "[93.69173249]\n"
     ]
    }
   ],
   "source": [
    "hours = [[9.25]]\n",
    "pred = regressor.predict(hours)\n",
    "print(pred)"
   ]
  },
  {
   "cell_type": "markdown",
   "id": "316ccc65",
   "metadata": {},
   "source": [
    "**STEP 10: Calculating The Mean Absolute Error**"
   ]
  },
  {
   "cell_type": "code",
   "execution_count": 13,
   "id": "188e63f9",
   "metadata": {},
   "outputs": [
    {
     "name": "stdout",
     "output_type": "stream",
     "text": [
      "Mean Absolute Error: 4.183859899002975\n"
     ]
    }
   ],
   "source": [
    "from sklearn import metrics\n",
    "print('Mean Absolute Error:',\n",
    "        metrics.mean_absolute_error(y_test, y_pred))"
   ]
  },
  {
   "cell_type": "markdown",
   "id": "79805c97",
   "metadata": {},
   "source": [
    "### TASK COMPLETED!"
   ]
  }
 ],
 "metadata": {
  "kernelspec": {
   "display_name": "Python 3 (ipykernel)",
   "language": "python",
   "name": "python3"
  },
  "language_info": {
   "codemirror_mode": {
    "name": "ipython",
    "version": 3
   },
   "file_extension": ".py",
   "mimetype": "text/x-python",
   "name": "python",
   "nbconvert_exporter": "python",
   "pygments_lexer": "ipython3",
   "version": "3.9.6"
  }
 },
 "nbformat": 4,
 "nbformat_minor": 5
}
